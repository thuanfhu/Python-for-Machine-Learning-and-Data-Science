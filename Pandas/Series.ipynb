{
 "cells": [
  {
   "cell_type": "code",
   "execution_count": 1,
   "id": "15c44455-d599-4589-bd5d-e248ad6f70b1",
   "metadata": {},
   "outputs": [],
   "source": [
    "import numpy as np\n",
    "import pandas as pd"
   ]
  },
  {
   "cell_type": "code",
   "execution_count": 2,
   "id": "45551bef-9c3d-4199-a9ab-bb957d16096d",
   "metadata": {},
   "outputs": [],
   "source": [
    "# help(pd.Series)"
   ]
  },
  {
   "cell_type": "code",
   "execution_count": 3,
   "id": "19a28bbb-e17d-4c68-bd74-fa44e99e6b19",
   "metadata": {},
   "outputs": [
    {
     "data": {
      "text/plain": [
       "0     1230\n",
       "1     1938\n",
       "2    44522\n",
       "3      786\n",
       "dtype: int64"
      ]
     },
     "execution_count": 3,
     "metadata": {},
     "output_type": "execute_result"
    }
   ],
   "source": [
    "productNameIndex = ['Phone', 'Laptop', 'Apple', 'T-Shirt'] # Cách 1 để gán labeled index cho value trong Series\n",
    "totalSoldData = [1230, 1938, 44522, 786]\n",
    "myProductSeries1 = pd.Series(totalSoldData) \n",
    "myProductSeries1 # Hiển thị numeric index (khó nhớ)"
   ]
  },
  {
   "cell_type": "code",
   "execution_count": 4,
   "id": "29e7cf9f-a1d1-4c14-835a-55d963f4d35c",
   "metadata": {},
   "outputs": [
    {
     "data": {
      "text/plain": [
       "pandas.core.series.Series"
      ]
     },
     "execution_count": 4,
     "metadata": {},
     "output_type": "execute_result"
    }
   ],
   "source": [
    "type(myProductSeries1)"
   ]
  },
  {
   "cell_type": "code",
   "execution_count": 5,
   "id": "f3e9a004-2aae-440f-911b-2eaaa725151e",
   "metadata": {},
   "outputs": [
    {
     "data": {
      "text/plain": [
       "Phone       1230\n",
       "Laptop      1938\n",
       "Apple      44522\n",
       "T-Shirt      786\n",
       "dtype: int64"
      ]
     },
     "execution_count": 5,
     "metadata": {},
     "output_type": "execute_result"
    }
   ],
   "source": [
    "myProductSeries2 = pd.Series(totalSoldData, productNameIndex) \n",
    "myProductSeries2 # Hiển thị labeled index (dễ nhớ)"
   ]
  },
  {
   "cell_type": "code",
   "execution_count": 6,
   "id": "4f3a3743-7c05-4545-baf5-b23de73b239b",
   "metadata": {},
   "outputs": [
    {
     "data": {
      "text/plain": [
       "1230"
      ]
     },
     "execution_count": 6,
     "metadata": {},
     "output_type": "execute_result"
    }
   ],
   "source": [
    "myProductSeries2['Phone'] # Truy xuất value của 1 labeled index"
   ]
  },
  {
   "cell_type": "code",
   "execution_count": 7,
   "id": "3579c5fa-9080-4204-be96-50e7b8dd11d2",
   "metadata": {},
   "outputs": [
    {
     "data": {
      "text/plain": [
       "Bob      18\n",
       "Jerry    27\n",
       "John     20\n",
       "dtype: int64"
      ]
     },
     "execution_count": 7,
     "metadata": {},
     "output_type": "execute_result"
    }
   ],
   "source": [
    "ages = {'Bob' : 18, 'Jerry': 27, 'John': 20} # Cách 2 để gán labeled index cho value trong Series (dictionary)\n",
    "myAgeSeries = pd.Series(ages) \n",
    "myAgeSeries"
   ]
  },
  {
   "cell_type": "code",
   "execution_count": 8,
   "id": "587e01b5-ed7f-4d2a-b26a-9f4cc817a780",
   "metadata": {},
   "outputs": [
    {
     "data": {
      "text/plain": [
       "20"
      ]
     },
     "execution_count": 8,
     "metadata": {},
     "output_type": "execute_result"
    }
   ],
   "source": [
    "myAgeSeries['John']"
   ]
  },
  {
   "cell_type": "code",
   "execution_count": 9,
   "id": "c8a7ef55-e67a-42ec-843c-331d79ee0b2e",
   "metadata": {},
   "outputs": [],
   "source": [
    "# Imaginary Sales Data for 1st and 2nd Quarters for Global Company\n",
    "q1 = {'Japan': 80, 'China': 450, 'USA': 250, 'India': 200}\n",
    "q2 = {'Brazil': 100,'China': 500, 'India': 210,'USA': 260}"
   ]
  },
  {
   "cell_type": "code",
   "execution_count": 10,
   "id": "e70204f2-c649-43f8-9bd1-f72a73463c1a",
   "metadata": {},
   "outputs": [
    {
     "data": {
      "text/plain": [
       "Japan     80\n",
       "China    450\n",
       "USA      250\n",
       "India    200\n",
       "dtype: int64"
      ]
     },
     "execution_count": 10,
     "metadata": {},
     "output_type": "execute_result"
    }
   ],
   "source": [
    "sales_q1 = pd.Series(q1)\n",
    "sales_q1"
   ]
  },
  {
   "cell_type": "code",
   "execution_count": 11,
   "id": "62bd45f7-97ae-4c7d-8bd2-480e3cee8c3b",
   "metadata": {},
   "outputs": [
    {
     "data": {
      "text/plain": [
       "Brazil    100\n",
       "China     500\n",
       "India     210\n",
       "USA       260\n",
       "dtype: int64"
      ]
     },
     "execution_count": 11,
     "metadata": {},
     "output_type": "execute_result"
    }
   ],
   "source": [
    "sales_q2 = pd.Series(q2)\n",
    "sales_q2"
   ]
  },
  {
   "cell_type": "code",
   "execution_count": 12,
   "id": "e867be70-dd19-4346-8e92-32a479444fa3",
   "metadata": {},
   "outputs": [
    {
     "data": {
      "text/plain": [
       "80"
      ]
     },
     "execution_count": 12,
     "metadata": {},
     "output_type": "execute_result"
    }
   ],
   "source": [
    "sales_q1['Japan']"
   ]
  },
  {
   "cell_type": "code",
   "execution_count": 13,
   "id": "ee819876-b0d6-4fdf-8510-73a106229d66",
   "metadata": {},
   "outputs": [
    {
     "data": {
      "text/plain": [
       "Index(['Japan', 'China', 'USA', 'India'], dtype='object')"
      ]
     },
     "execution_count": 13,
     "metadata": {},
     "output_type": "execute_result"
    }
   ],
   "source": [
    "sales_q1.keys() # Hiển thị tất cả labeled index trong Series"
   ]
  },
  {
   "cell_type": "code",
   "execution_count": 14,
   "id": "7336e386-c384-4436-8a2c-a6defe682d9e",
   "metadata": {},
   "outputs": [
    {
     "data": {
      "text/plain": [
       "[1, 2, 1, 2]"
      ]
     },
     "execution_count": 14,
     "metadata": {},
     "output_type": "execute_result"
    }
   ],
   "source": [
    "[1, 2] * 2 # Sử dụng với Python list (double value)"
   ]
  },
  {
   "cell_type": "code",
   "execution_count": 15,
   "id": "bfebc83d-65b3-4708-846a-7a497b828f60",
   "metadata": {},
   "outputs": [
    {
     "data": {
      "text/plain": [
       "array([2, 4])"
      ]
     },
     "execution_count": 15,
     "metadata": {},
     "output_type": "execute_result"
    }
   ],
   "source": [
    "np.array([1, 2]) * 2 # Sử dụng với NumPy arrays (broadcasted)"
   ]
  },
  {
   "cell_type": "code",
   "execution_count": 16,
   "id": "d84964fb-2baa-4f11-bbc0-bafeb0772756",
   "metadata": {},
   "outputs": [
    {
     "data": {
      "text/plain": [
       "Japan    160\n",
       "China    900\n",
       "USA      500\n",
       "India    400\n",
       "dtype: int64"
      ]
     },
     "execution_count": 16,
     "metadata": {},
     "output_type": "execute_result"
    }
   ],
   "source": [
    "sales_q1 * 2 # Sử dụng với Pandas Series (broadcasted)"
   ]
  },
  {
   "cell_type": "code",
   "execution_count": 17,
   "id": "dba7153e-9ce7-4088-af71-ba48e87cfe0c",
   "metadata": {},
   "outputs": [
    {
     "data": {
      "text/plain": [
       "Japan     80\n",
       "China    450\n",
       "USA      250\n",
       "India    200\n",
       "dtype: int64"
      ]
     },
     "execution_count": 17,
     "metadata": {},
     "output_type": "execute_result"
    }
   ],
   "source": [
    "sales_q1"
   ]
  },
  {
   "cell_type": "code",
   "execution_count": 18,
   "id": "6a2e9b10-47be-4cb3-8e0f-4bf3381ad4a0",
   "metadata": {},
   "outputs": [
    {
     "data": {
      "text/plain": [
       "Brazil    100\n",
       "China     500\n",
       "India     210\n",
       "USA       260\n",
       "dtype: int64"
      ]
     },
     "execution_count": 18,
     "metadata": {},
     "output_type": "execute_result"
    }
   ],
   "source": [
    "sales_q2"
   ]
  },
  {
   "cell_type": "code",
   "execution_count": 19,
   "id": "5477b726-4ade-41cc-a22c-a8b3203d9a50",
   "metadata": {},
   "outputs": [
    {
     "data": {
      "text/plain": [
       "Brazil      NaN\n",
       "China     950.0\n",
       "India     410.0\n",
       "Japan       NaN\n",
       "USA       510.0\n",
       "dtype: float64"
      ]
     },
     "execution_count": 19,
     "metadata": {},
     "output_type": "execute_result"
    }
   ],
   "source": [
    "sales_q1 + sales_q2"
   ]
  },
  {
   "cell_type": "code",
   "execution_count": 20,
   "id": "bfadfc79-435c-41ab-8c47-e119301bb944",
   "metadata": {},
   "outputs": [
    {
     "data": {
      "text/plain": [
       "Brazil    100.0\n",
       "China     950.0\n",
       "India     410.0\n",
       "Japan      80.0\n",
       "USA       510.0\n",
       "dtype: float64"
      ]
     },
     "execution_count": 20,
     "metadata": {},
     "output_type": "execute_result"
    }
   ],
   "source": [
    "first_half = sales_q1.add(sales_q2, fill_value=0)\n",
    "first_half"
   ]
  },
  {
   "cell_type": "code",
   "execution_count": 21,
   "id": "9f155b97-9359-4354-a873-1aee56e71f40",
   "metadata": {},
   "outputs": [
    {
     "data": {
      "text/plain": [
       "dtype('float64')"
      ]
     },
     "execution_count": 21,
     "metadata": {},
     "output_type": "execute_result"
    }
   ],
   "source": [
    "first_half.dtype # Để ý sales_q1 và sales_q2 là int, khi cộng lại xong thì thành float "
   ]
  },
  {
   "cell_type": "code",
   "execution_count": 22,
   "id": "0cf61125-b7b6-48b6-a8a0-182e3f64cde6",
   "metadata": {},
   "outputs": [
    {
     "data": {
      "text/plain": [
       "Brazil       100.0\n",
       "China     225000.0\n",
       "India      42000.0\n",
       "Japan         80.0\n",
       "USA        65000.0\n",
       "dtype: float64"
      ]
     },
     "execution_count": 22,
     "metadata": {},
     "output_type": "execute_result"
    }
   ],
   "source": [
    "sales_q1.mul(sales_q2, fill_value=1) # Phép nhân (mul hoặc multiply đều được)"
   ]
  },
  {
   "cell_type": "code",
   "execution_count": 23,
   "id": "8853bb89-58b8-4274-a26b-c28265fb893b",
   "metadata": {},
   "outputs": [
    {
     "data": {
      "text/plain": [
       "Brazil     0.010000\n",
       "China      0.900000\n",
       "India      0.952381\n",
       "Japan     80.000000\n",
       "USA        0.961538\n",
       "dtype: float64"
      ]
     },
     "execution_count": 23,
     "metadata": {},
     "output_type": "execute_result"
    }
   ],
   "source": [
    "sales_q1.div(sales_q2, fill_value=1) # Phép chia (div hoặc division đều được)"
   ]
  },
  {
   "cell_type": "code",
   "execution_count": null,
   "id": "0616c34d-f2fa-496d-a315-1f51b9c6a6c2",
   "metadata": {},
   "outputs": [],
   "source": []
  }
 ],
 "metadata": {
  "kernelspec": {
   "display_name": "Python [conda env:base] *",
   "language": "python",
   "name": "conda-base-py"
  },
  "language_info": {
   "codemirror_mode": {
    "name": "ipython",
    "version": 3
   },
   "file_extension": ".py",
   "mimetype": "text/x-python",
   "name": "python",
   "nbconvert_exporter": "python",
   "pygments_lexer": "ipython3",
   "version": "3.12.7"
  }
 },
 "nbformat": 4,
 "nbformat_minor": 5
}
