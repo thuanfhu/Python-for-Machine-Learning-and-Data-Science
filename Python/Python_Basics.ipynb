{
 "cells": [
  {
   "cell_type": "code",
   "execution_count": 2,
   "id": "598519b9-db88-42f5-ab26-06700e5020f9",
   "metadata": {},
   "outputs": [
    {
     "name": "stdout",
     "output_type": "stream",
     "text": [
      "Hello world!\n"
     ]
    }
   ],
   "source": [
    "print(\"Hello world!\")"
   ]
  },
  {
   "cell_type": "code",
   "execution_count": 8,
   "id": "eb9a3363-1479-45a3-8a75-121287a73611",
   "metadata": {},
   "outputs": [
    {
     "name": "stdout",
     "output_type": "stream",
     "text": [
      "Hello, my name is thuanflu and my number is 10\n"
     ]
    }
   ],
   "source": [
    "print(\"Hello, my name is {} and my number is {}\".format(\"thuanflu\", 10))"
   ]
  },
  {
   "cell_type": "code",
   "execution_count": 16,
   "id": "8dd3f481-c3a2-4697-ac98-3663b7da4bb3",
   "metadata": {},
   "outputs": [
    {
     "name": "stdout",
     "output_type": "stream",
     "text": [
      "First, YYY and Second XXX\n"
     ]
    }
   ],
   "source": [
    "print(\"First, {y} and Second {x}\".format(x='XXX',y='YYY'))"
   ]
  },
  {
   "cell_type": "code",
   "execution_count": 20,
   "id": "c6442b79-4eef-44a9-a40f-e4d7553e1d79",
   "metadata": {},
   "outputs": [
    {
     "data": {
      "text/plain": [
       "[1, 'a', 3]"
      ]
     },
     "execution_count": 20,
     "metadata": {},
     "output_type": "execute_result"
    }
   ],
   "source": [
    "[1, 'a', 3]"
   ]
  },
  {
   "cell_type": "code",
   "execution_count": 279,
   "id": "a190617a-5c14-4197-a351-135956d05980",
   "metadata": {},
   "outputs": [
    {
     "name": "stdout",
     "output_type": "stream",
     "text": [
      "['Java', 'TypeScript', 'C++']\n",
      "['JavaScript', 'TypeScript', 'C++']\n",
      "['JavaScript', 'TypeScript', 'C++', ['Java', 'C#']]\n",
      "My love programming language is C#\n",
      "['JavaScript', 'TypeScript', 'C++']\n",
      "['TypeScript', 'C++']\n",
      "False because current list ['TypeScript', 'C++']\n"
     ]
    }
   ],
   "source": [
    "myLanguages = ['Java', 'TypeScript', 'C++']; print(myLanguages)\n",
    "myLanguages[0] = 'JavaScript'; print(myLanguages)\n",
    "myLanguages.append(['Java', 'C#']); print(myLanguages)\n",
    "print('My love programming language is', myLanguages[3][1]) # List\n",
    "myLanguages.pop(); print(myLanguages);\n",
    "myLanguages.pop(0); print(myLanguages);\n",
    "print('Java' in myLanguages, 'because current list', myLanguages); # Quick check element"
   ]
  },
  {
   "cell_type": "code",
   "execution_count": 70,
   "id": "9d57a78d-257c-4b99-8d85-f713cf42de65",
   "metadata": {},
   "outputs": [
    {
     "name": "stdout",
     "output_type": "stream",
     "text": [
      "My key is 3\n",
      "{'key1': 1, 'key2': 2, 'key3': 3}\n"
     ]
    }
   ],
   "source": [
    "d = {'key1': 1, 'key2' : 2, 'key3' : 3}\n",
    "print('My key is', d['key3']) # Dictionnary\n",
    "print(d);"
   ]
  },
  {
   "cell_type": "code",
   "execution_count": 76,
   "id": "5f768093-c54e-4efa-b08f-4a7b261a7c81",
   "metadata": {},
   "outputs": [
    {
     "name": "stdout",
     "output_type": "stream",
     "text": [
      "(0, 1, 2, 3)\n"
     ]
    }
   ],
   "source": [
    "t = (0, 1, 2, 3); print(t) # Tuples (same const)"
   ]
  },
  {
   "cell_type": "code",
   "execution_count": 80,
   "id": "9967b8fa-a940-4b9c-b4b7-371ea623c8fc",
   "metadata": {},
   "outputs": [
    {
     "name": "stdout",
     "output_type": "stream",
     "text": [
      "{1, 2, 3, 4}\n"
     ]
    }
   ],
   "source": [
    "s = {1, 1, 1, 1, 3, 3, 3, 4, 4, 2, 2, 2}; print(s) # Set (Unordered, Unique)"
   ]
  },
  {
   "cell_type": "code",
   "execution_count": 82,
   "id": "2061d143-11f1-471b-b0cb-08a6c6e93fc1",
   "metadata": {},
   "outputs": [
    {
     "data": {
      "text/plain": [
       "False"
      ]
     },
     "execution_count": 82,
     "metadata": {},
     "output_type": "execute_result"
    }
   ],
   "source": [
    "1 > 5"
   ]
  },
  {
   "cell_type": "code",
   "execution_count": 84,
   "id": "522960f6-b0b7-4904-9298-e763f24e51ec",
   "metadata": {},
   "outputs": [
    {
     "data": {
      "text/plain": [
       "True"
      ]
     },
     "execution_count": 84,
     "metadata": {},
     "output_type": "execute_result"
    }
   ],
   "source": [
    "1 <= 3"
   ]
  },
  {
   "cell_type": "code",
   "execution_count": 86,
   "id": "4759a259-b6d1-4ac5-ba9f-4950f9e2c921",
   "metadata": {},
   "outputs": [
    {
     "data": {
      "text/plain": [
       "False"
      ]
     },
     "execution_count": 86,
     "metadata": {},
     "output_type": "execute_result"
    }
   ],
   "source": [
    "'a' == 'A'"
   ]
  },
  {
   "cell_type": "code",
   "execution_count": 88,
   "id": "047058bb-d640-4b0c-a698-10bd5b463980",
   "metadata": {},
   "outputs": [
    {
     "data": {
      "text/plain": [
       "True"
      ]
     },
     "execution_count": 88,
     "metadata": {},
     "output_type": "execute_result"
    }
   ],
   "source": [
    "1 != 2"
   ]
  },
  {
   "cell_type": "code",
   "execution_count": 96,
   "id": "1563828a-3b6a-4284-a283-cbf4557d5b22",
   "metadata": {},
   "outputs": [
    {
     "data": {
      "text/plain": [
       "False"
      ]
     },
     "execution_count": 96,
     "metadata": {},
     "output_type": "execute_result"
    }
   ],
   "source": [
    "(1 == 1 and 1 != 1) "
   ]
  },
  {
   "cell_type": "code",
   "execution_count": 98,
   "id": "57f2d7cc-12ca-4c68-af6d-d2f3dc8d1a34",
   "metadata": {},
   "outputs": [
    {
     "data": {
      "text/plain": [
       "True"
      ]
     },
     "execution_count": 98,
     "metadata": {},
     "output_type": "execute_result"
    }
   ],
   "source": [
    "(1 == 1 or 1 != 2)"
   ]
  },
  {
   "cell_type": "code",
   "execution_count": 116,
   "id": "cfa907dd-a0e6-4659-b291-224a95b7a334",
   "metadata": {},
   "outputs": [
    {
     "name": "stdout",
     "output_type": "stream",
     "text": [
      "Hello guy! This is option 2\n"
     ]
    }
   ],
   "source": [
    "if(1 == 1 and 1 != 1):\n",
    "    print('Hello bro! This is option 1')\n",
    "elif(1 == 1 or 2 != 2):\n",
    "    print('Hello guy! This is option 2')\n",
    "else:\n",
    "    print('This is option 3')"
   ]
  },
  {
   "cell_type": "code",
   "execution_count": 132,
   "id": "bfdd4d2a-b04d-4b31-a0f2-91e595e9b4ea",
   "metadata": {},
   "outputs": [
    {
     "name": "stdout",
     "output_type": "stream",
     "text": [
      "banana\n",
      "apple\n",
      "orange\n"
     ]
    }
   ],
   "source": [
    "myFruits = ['banana', 'apple', 'orange']\n",
    "for fruit in myFruits:\n",
    "    print(fruit) # For loops"
   ]
  },
  {
   "cell_type": "code",
   "execution_count": 130,
   "id": "0581c525-aaf8-4552-9bfc-28a930847439",
   "metadata": {},
   "outputs": [
    {
     "name": "stdout",
     "output_type": "stream",
     "text": [
      "i is 1\n",
      "i is 2\n",
      "i is 3\n",
      "i is 4\n",
      "i is 5\n"
     ]
    }
   ],
   "source": [
    "i = 1\n",
    "while i <= 5:\n",
    "    print('i is {}'.format(i))\n",
    "    i = i + 1; # While loops"
   ]
  },
  {
   "cell_type": "code",
   "execution_count": 152,
   "id": "3718b934-7d70-4714-8c64-c627c3b0f270",
   "metadata": {},
   "outputs": [
    {
     "name": "stdout",
     "output_type": "stream",
     "text": [
      "[1, 2, 3, 4]\n",
      "[1, 2, 3, 4]\n",
      "X is 1\n",
      "X is 2\n",
      "X is 3\n",
      "X is 4\n"
     ]
    }
   ],
   "source": [
    "x = [1, 2, 3, 4]; print(x)\n",
    "print(list(range(1, 5))); # Quick create list (Python 3)\n",
    "for x in range (1, 5):\n",
    "    print('X is', x)"
   ]
  },
  {
   "cell_type": "code",
   "execution_count": 160,
   "id": "27d23eda-8031-4fe1-8b47-efd7b144e54a",
   "metadata": {},
   "outputs": [
    {
     "name": "stdout",
     "output_type": "stream",
     "text": [
      "[1, 4, 9, 16, 25]\n"
     ]
    }
   ],
   "source": [
    "x = [1, 2, 3, 4, 5]\n",
    "out = []\n",
    "for num in x:\n",
    "    out.append(num ** 2);\n",
    "print(out)"
   ]
  },
  {
   "cell_type": "code",
   "execution_count": 162,
   "id": "e1688167-974e-4d5b-b31a-be3c6eba0fa8",
   "metadata": {},
   "outputs": [
    {
     "data": {
      "text/plain": [
       "[1, 4, 9, 16, 25]"
      ]
     },
     "execution_count": 162,
     "metadata": {},
     "output_type": "execute_result"
    }
   ],
   "source": [
    "[num ** 2 for num in x]"
   ]
  },
  {
   "cell_type": "code",
   "execution_count": 215,
   "id": "fb969b4b-2dbe-478d-8265-c3c9665ed98c",
   "metadata": {},
   "outputs": [
    {
     "name": "stdout",
     "output_type": "stream",
     "text": [
      "7\n",
      "5\n"
     ]
    }
   ],
   "source": [
    "def calc(a, b = 1): # Function\n",
    "    '''\n",
    "    This function will calculate total 2 numbers for you!\n",
    "    '''\n",
    "    return a + b;\n",
    "result = calc(1) + calc(1, 4); print(result);\n",
    "calc2 = lambda a, b: a + b; result2 = calc2(2, 3); print(result2) # Lambda expression"
   ]
  },
  {
   "cell_type": "code",
   "execution_count": 245,
   "id": "f2ab12a0-134a-4c06-b689-4cec59fb2662",
   "metadata": {},
   "outputs": [
    {
     "name": "stdout",
     "output_type": "stream",
     "text": [
      "my name is quach phu thuan\n",
      "MY NAME IS QUACH PHU THUAN\n",
      "['My', 'name', 'is', 'Quach', 'Phu', 'Thuan']\n"
     ]
    }
   ],
   "source": [
    "st = 'My name is Quach Phu Thuan';\n",
    "print(st.lower()); print(st.upper()); print(st.split()); # String example 1"
   ]
  },
  {
   "cell_type": "code",
   "execution_count": 243,
   "id": "4fefbacc-b94c-48d9-be8f-b6d9d19a6b63",
   "metadata": {},
   "outputs": [
    {
     "name": "stdout",
     "output_type": "stream",
     "text": [
      "['This is Python', ' the best programming language', ' in the world']\n",
      " in the world\n"
     ]
    }
   ],
   "source": [
    "st2 = 'This is Python, the best programming language, in the world'\n",
    "print(st2.split(','))\n",
    "print(st2.split(',')[-1]) # String example 2"
   ]
  },
  {
   "cell_type": "code",
   "execution_count": 261,
   "id": "73dc3c7a-8891-4164-abea-f89a85aa63f3",
   "metadata": {},
   "outputs": [
    {
     "name": "stdout",
     "output_type": "stream",
     "text": [
      "dict_keys(['key1', 'key2', 'key3'])\n",
      "dict_values(['v1', 'v2', 'v3'])\n",
      "dict_items([('key1', 'v1'), ('key2', 'v2'), ('key3', 'v3')])\n"
     ]
    }
   ],
   "source": [
    "dictionary2 = {'key1' : 'v1', 'key2': 'v2', 'key3': 'v3'}\n",
    "print(dictionary2.keys())\n",
    "print(dictionary2.values())\n",
    "print(dictionary2.items()) # Dictionary example 2"
   ]
  },
  {
   "cell_type": "code",
   "execution_count": null,
   "id": "58a3ce4c-2963-4de4-8b21-0da9be437234",
   "metadata": {},
   "outputs": [],
   "source": []
  }
 ],
 "metadata": {
  "kernelspec": {
   "display_name": "Python 3 (ipykernel)",
   "language": "python",
   "name": "python3"
  },
  "language_info": {
   "codemirror_mode": {
    "name": "ipython",
    "version": 3
   },
   "file_extension": ".py",
   "mimetype": "text/x-python",
   "name": "python",
   "nbconvert_exporter": "python",
   "pygments_lexer": "ipython3",
   "version": "3.12.7"
  }
 },
 "nbformat": 4,
 "nbformat_minor": 5
}
