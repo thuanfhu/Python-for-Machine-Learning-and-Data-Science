{
 "cells": [
  {
   "cell_type": "code",
   "execution_count": 1,
   "id": "c20f30be-66b8-4750-89b4-8d048cf1dcd6",
   "metadata": {},
   "outputs": [],
   "source": [
    "import numpy as np"
   ]
  },
  {
   "cell_type": "code",
   "execution_count": 2,
   "id": "f1bc472b-ab50-4c92-891a-6d832a1e505f",
   "metadata": {},
   "outputs": [],
   "source": [
    "languages = ['English', 'Japanese', 'German']"
   ]
  },
  {
   "cell_type": "code",
   "execution_count": 3,
   "id": "1d405cb9-1256-44c8-a215-1318f7659d89",
   "metadata": {},
   "outputs": [
    {
     "data": {
      "text/plain": [
       "list"
      ]
     },
     "execution_count": 3,
     "metadata": {},
     "output_type": "execute_result"
    }
   ],
   "source": [
    "type(languages)"
   ]
  },
  {
   "cell_type": "code",
   "execution_count": 4,
   "id": "9bf22635-4616-4d1d-bfae-16986120b43e",
   "metadata": {},
   "outputs": [
    {
     "data": {
      "text/plain": [
       "array(['English', 'Japanese', 'German'], dtype='<U8')"
      ]
     },
     "execution_count": 4,
     "metadata": {},
     "output_type": "execute_result"
    }
   ],
   "source": [
    "np.array(languages)"
   ]
  },
  {
   "cell_type": "code",
   "execution_count": 5,
   "id": "99231953-6552-42ef-b999-aa73a17b73c1",
   "metadata": {},
   "outputs": [],
   "source": [
    "myNumpyArr = np.array(languages)"
   ]
  },
  {
   "cell_type": "code",
   "execution_count": 6,
   "id": "421bd5a8-2579-45cc-819a-c4f34b292071",
   "metadata": {},
   "outputs": [
    {
     "data": {
      "text/plain": [
       "numpy.ndarray"
      ]
     },
     "execution_count": 6,
     "metadata": {},
     "output_type": "execute_result"
    }
   ],
   "source": [
    "type(myNumpyArr)"
   ]
  },
  {
   "cell_type": "code",
   "execution_count": 7,
   "id": "2cd37069-b224-4454-8853-85b5796717e1",
   "metadata": {},
   "outputs": [],
   "source": [
    "my_matrix = [[1, 2, 3], [4, 5, 6], [7, 8, 9]]"
   ]
  },
  {
   "cell_type": "code",
   "execution_count": 8,
   "id": "720d1d33-3a2f-4bbb-9b54-7407e828f22a",
   "metadata": {},
   "outputs": [
    {
     "data": {
      "text/plain": [
       "array([[1, 2, 3],\n",
       "       [4, 5, 6],\n",
       "       [7, 8, 9]])"
      ]
     },
     "execution_count": 8,
     "metadata": {},
     "output_type": "execute_result"
    }
   ],
   "source": [
    "np.array(my_matrix)"
   ]
  },
  {
   "cell_type": "code",
   "execution_count": 9,
   "id": "4765d581-0604-4cf8-abc9-c20ab094c41e",
   "metadata": {},
   "outputs": [
    {
     "data": {
      "text/plain": [
       "array([0, 2, 4, 6, 8])"
      ]
     },
     "execution_count": 9,
     "metadata": {},
     "output_type": "execute_result"
    }
   ],
   "source": [
    "np.arange(0, 10, 2)"
   ]
  },
  {
   "cell_type": "code",
   "execution_count": 10,
   "id": "89bc6db4-06d7-4a84-bd5f-56cda1882256",
   "metadata": {},
   "outputs": [
    {
     "data": {
      "text/plain": [
       "array([0., 0., 0., 0., 0.])"
      ]
     },
     "execution_count": 10,
     "metadata": {},
     "output_type": "execute_result"
    }
   ],
   "source": [
    "np.zeros(5)"
   ]
  },
  {
   "cell_type": "code",
   "execution_count": 11,
   "id": "3f877969-1d94-4be5-8c88-262574108b4c",
   "metadata": {},
   "outputs": [
    {
     "data": {
      "text/plain": [
       "array([[0., 0., 0., 0., 0.],\n",
       "       [0., 0., 0., 0., 0.]])"
      ]
     },
     "execution_count": 11,
     "metadata": {},
     "output_type": "execute_result"
    }
   ],
   "source": [
    "np.zeros((2, 5))"
   ]
  },
  {
   "cell_type": "code",
   "execution_count": 12,
   "id": "2c78a5c3-bac5-4f86-8fce-403041a2f14c",
   "metadata": {},
   "outputs": [
    {
     "data": {
      "text/plain": [
       "array([[0, 0, 0, 0, 0],\n",
       "       [0, 0, 0, 0, 0]])"
      ]
     },
     "execution_count": 12,
     "metadata": {},
     "output_type": "execute_result"
    }
   ],
   "source": [
    "np.zeros((2, 5), 'int')"
   ]
  },
  {
   "cell_type": "code",
   "execution_count": 13,
   "id": "179a4b64-8695-4b50-8d85-d34bd421e738",
   "metadata": {},
   "outputs": [
    {
     "data": {
      "text/plain": [
       "array([[1., 1., 1., 1., 1., 1.],\n",
       "       [1., 1., 1., 1., 1., 1.],\n",
       "       [1., 1., 1., 1., 1., 1.]])"
      ]
     },
     "execution_count": 13,
     "metadata": {},
     "output_type": "execute_result"
    }
   ],
   "source": [
    "np.ones((3, 6))"
   ]
  },
  {
   "cell_type": "code",
   "execution_count": 14,
   "id": "f863cd37-d2ec-48a7-8e6b-49cf339bbace",
   "metadata": {},
   "outputs": [
    {
     "data": {
      "text/plain": [
       "array([ 1.,  2.,  3.,  4.,  5.,  6.,  7.,  8.,  9., 10.])"
      ]
     },
     "execution_count": 14,
     "metadata": {},
     "output_type": "execute_result"
    }
   ],
   "source": [
    "np.linspace(1, 10, 10)"
   ]
  },
  {
   "cell_type": "code",
   "execution_count": 15,
   "id": "49ebbe64-2a90-43a0-bf08-12c360404fd2",
   "metadata": {},
   "outputs": [
    {
     "data": {
      "text/plain": [
       "array([ 1. ,  1.9,  2.8,  3.7,  4.6,  5.5,  6.4,  7.3,  8.2,  9.1, 10. ])"
      ]
     },
     "execution_count": 15,
     "metadata": {},
     "output_type": "execute_result"
    }
   ],
   "source": [
    "np.linspace(1, 10, 11)"
   ]
  },
  {
   "cell_type": "code",
   "execution_count": 16,
   "id": "9cdb8a97-be1f-4f8b-aedb-29f51b7047ca",
   "metadata": {},
   "outputs": [
    {
     "data": {
      "text/plain": [
       "array([ 1.        ,  1.47368421,  1.94736842,  2.42105263,  2.89473684,\n",
       "        3.36842105,  3.84210526,  4.31578947,  4.78947368,  5.26315789,\n",
       "        5.73684211,  6.21052632,  6.68421053,  7.15789474,  7.63157895,\n",
       "        8.10526316,  8.57894737,  9.05263158,  9.52631579, 10.        ])"
      ]
     },
     "execution_count": 16,
     "metadata": {},
     "output_type": "execute_result"
    }
   ],
   "source": [
    "np.linspace(1, 10, 20)"
   ]
  },
  {
   "cell_type": "code",
   "execution_count": 17,
   "id": "4357a51a-0568-4732-a72f-cef5d3505c9e",
   "metadata": {},
   "outputs": [
    {
     "data": {
      "text/plain": [
       "20"
      ]
     },
     "execution_count": 17,
     "metadata": {},
     "output_type": "execute_result"
    }
   ],
   "source": [
    "len(np.linspace(1, 10, 20))"
   ]
  },
  {
   "cell_type": "code",
   "execution_count": 18,
   "id": "6c15e680-7b52-474a-9afa-7542d4d5fc54",
   "metadata": {},
   "outputs": [
    {
     "data": {
      "text/plain": [
       "array([[0., 0., 0., 0., 0., 0., 0.],\n",
       "       [1., 0., 0., 0., 0., 0., 0.],\n",
       "       [0., 1., 0., 0., 0., 0., 0.],\n",
       "       [0., 0., 1., 0., 0., 0., 0.],\n",
       "       [0., 0., 0., 1., 0., 0., 0.]])"
      ]
     },
     "execution_count": 18,
     "metadata": {},
     "output_type": "execute_result"
    }
   ],
   "source": [
    "np.eye(5, 7, -1)"
   ]
  },
  {
   "cell_type": "code",
   "execution_count": 19,
   "id": "21baee55-8676-49f9-8cde-6077ca0f1d6d",
   "metadata": {},
   "outputs": [
    {
     "data": {
      "text/plain": [
       "array([[1., 0., 0., 0., 0.],\n",
       "       [0., 1., 0., 0., 0.],\n",
       "       [0., 0., 1., 0., 0.],\n",
       "       [0., 0., 0., 1., 0.],\n",
       "       [0., 0., 0., 0., 1.]])"
      ]
     },
     "execution_count": 19,
     "metadata": {},
     "output_type": "execute_result"
    }
   ],
   "source": [
    "np.eye(5)"
   ]
  },
  {
   "cell_type": "code",
   "execution_count": 20,
   "id": "510a1c44-6c34-4e9c-be44-956a44bab930",
   "metadata": {},
   "outputs": [
    {
     "data": {
      "text/plain": [
       "array([[1., 0., 0., 0., 0., 0., 0., 0., 0., 0.],\n",
       "       [0., 1., 0., 0., 0., 0., 0., 0., 0., 0.],\n",
       "       [0., 0., 1., 0., 0., 0., 0., 0., 0., 0.],\n",
       "       [0., 0., 0., 1., 0., 0., 0., 0., 0., 0.],\n",
       "       [0., 0., 0., 0., 1., 0., 0., 0., 0., 0.],\n",
       "       [0., 0., 0., 0., 0., 1., 0., 0., 0., 0.],\n",
       "       [0., 0., 0., 0., 0., 0., 1., 0., 0., 0.],\n",
       "       [0., 0., 0., 0., 0., 0., 0., 1., 0., 0.],\n",
       "       [0., 0., 0., 0., 0., 0., 0., 0., 1., 0.],\n",
       "       [0., 0., 0., 0., 0., 0., 0., 0., 0., 1.]])"
      ]
     },
     "execution_count": 20,
     "metadata": {},
     "output_type": "execute_result"
    }
   ],
   "source": [
    "np.identity(10)"
   ]
  },
  {
   "cell_type": "code",
   "execution_count": 21,
   "id": "aa3e1b5a-2d9c-4551-b9c7-f75c38efecd6",
   "metadata": {},
   "outputs": [
    {
     "data": {
      "text/plain": [
       "array([0.62711796, 0.14759281])"
      ]
     },
     "execution_count": 21,
     "metadata": {},
     "output_type": "execute_result"
    }
   ],
   "source": [
    "np.random.rand(2)"
   ]
  },
  {
   "cell_type": "code",
   "execution_count": 22,
   "id": "25be742c-9f0f-4ed9-99cb-bb2588f5d743",
   "metadata": {},
   "outputs": [
    {
     "data": {
      "text/plain": [
       "array([[0.23892772, 0.46536798, 0.26109833, 0.43887069],\n",
       "       [0.11256625, 0.22928231, 0.2974903 , 0.40960563],\n",
       "       [0.74368825, 0.09991923, 0.44662055, 0.63262116],\n",
       "       [0.65813301, 0.84742013, 0.04671077, 0.80233702],\n",
       "       [0.75494984, 0.31111495, 0.81652618, 0.53889178],\n",
       "       [0.02831919, 0.16086074, 0.14209767, 0.52584051]])"
      ]
     },
     "execution_count": 22,
     "metadata": {},
     "output_type": "execute_result"
    }
   ],
   "source": [
    "np.random.rand(6, 4)"
   ]
  },
  {
   "cell_type": "code",
   "execution_count": 23,
   "id": "4f105a40-93b2-4c5d-b020-27eb67c700db",
   "metadata": {},
   "outputs": [
    {
     "data": {
      "text/plain": [
       "array([ 0.92085832, -0.0650363 ])"
      ]
     },
     "execution_count": 23,
     "metadata": {},
     "output_type": "execute_result"
    }
   ],
   "source": [
    "np.random.randn(2)"
   ]
  },
  {
   "cell_type": "code",
   "execution_count": 24,
   "id": "93c1cefb-3439-45c2-814d-b8d0a4c623b0",
   "metadata": {},
   "outputs": [
    {
     "data": {
      "text/plain": [
       "array([[-0.05894932, -0.66858309, -1.01228584, -1.54686653],\n",
       "       [-0.62854914, -0.98107292,  0.8657151 ,  0.98283159],\n",
       "       [-0.35102237, -0.97250018,  0.20399045,  1.06261016],\n",
       "       [-0.02723347,  0.9201015 , -0.99450782,  0.08133255],\n",
       "       [ 0.28743907,  1.55556578, -0.87920081,  2.07159957],\n",
       "       [ 1.73482454, -0.84490851,  1.18083033, -0.72088868]])"
      ]
     },
     "execution_count": 24,
     "metadata": {},
     "output_type": "execute_result"
    }
   ],
   "source": [
    "np.random.randn(6, 4) # Số càng gần 0 thì khả năng xuất hiện cao hơn"
   ]
  },
  {
   "cell_type": "code",
   "execution_count": 25,
   "id": "93434266-f8d2-4096-9507-90db95fb8d73",
   "metadata": {},
   "outputs": [
    {
     "data": {
      "text/plain": [
       "array([72, 77, 89, 51, 72])"
      ]
     },
     "execution_count": 25,
     "metadata": {},
     "output_type": "execute_result"
    }
   ],
   "source": [
    "np.random.randint(1, 101, 5)"
   ]
  },
  {
   "cell_type": "code",
   "execution_count": 26,
   "id": "82bc60f8-1d46-4da9-9fbf-6cdcf955c1ed",
   "metadata": {},
   "outputs": [
    {
     "data": {
      "text/plain": [
       "array([[83, 18, 46, 68, 90, 30],\n",
       "       [43, 85, 44, 41, 38, 65],\n",
       "       [10,  5, 23, 81, 76, 19],\n",
       "       [55, 63, 79,  2, 54, 63]])"
      ]
     },
     "execution_count": 26,
     "metadata": {},
     "output_type": "execute_result"
    }
   ],
   "source": [
    "np.random.randint(1, 101, (4, 6))"
   ]
  },
  {
   "cell_type": "code",
   "execution_count": 27,
   "id": "acae275a-f3cc-44d8-8062-e5fc996ef5c6",
   "metadata": {},
   "outputs": [
    {
     "data": {
      "text/plain": [
       "array([[0.37454012, 0.95071431, 0.73199394, 0.59865848],\n",
       "       [0.15601864, 0.15599452, 0.05808361, 0.86617615],\n",
       "       [0.60111501, 0.70807258, 0.02058449, 0.96990985],\n",
       "       [0.83244264, 0.21233911, 0.18182497, 0.18340451],\n",
       "       [0.30424224, 0.52475643, 0.43194502, 0.29122914]])"
      ]
     },
     "execution_count": 27,
     "metadata": {},
     "output_type": "execute_result"
    }
   ],
   "source": [
    "np.random.seed(42)\n",
    "np.random.rand(5, 4)"
   ]
  },
  {
   "cell_type": "code",
   "execution_count": 28,
   "id": "16f43bb4-67e0-4b71-932d-08fb079d0d1a",
   "metadata": {},
   "outputs": [
    {
     "data": {
      "text/plain": [
       "array([[0.37454012, 0.95071431, 0.73199394, 0.59865848],\n",
       "       [0.15601864, 0.15599452, 0.05808361, 0.86617615],\n",
       "       [0.60111501, 0.70807258, 0.02058449, 0.96990985],\n",
       "       [0.83244264, 0.21233911, 0.18182497, 0.18340451],\n",
       "       [0.30424224, 0.52475643, 0.43194502, 0.29122914]])"
      ]
     },
     "execution_count": 28,
     "metadata": {},
     "output_type": "execute_result"
    }
   ],
   "source": [
    "np.random.seed(42) # Cố định kết quả ngẫu nhiên, đảm bảo rằng mỗi lần chạy chương trình sẽ nhận được cùng một kết quả\n",
    "np.random.rand(5, 4)"
   ]
  },
  {
   "cell_type": "code",
   "execution_count": 29,
   "id": "13338de0-40d1-4074-9c00-e5f1302848be",
   "metadata": {},
   "outputs": [
    {
     "data": {
      "text/plain": [
       "array([ 0,  1,  2,  3,  4,  5,  6,  7,  8,  9, 10, 11, 12, 13, 14, 15, 16,\n",
       "       17, 18, 19, 20, 21, 22, 23, 24])"
      ]
     },
     "execution_count": 29,
     "metadata": {},
     "output_type": "execute_result"
    }
   ],
   "source": [
    "npArr = np.arange(0, 25)\n",
    "npArr"
   ]
  },
  {
   "cell_type": "code",
   "execution_count": 30,
   "id": "b547aff2-b885-4589-8a50-84013c52aa1b",
   "metadata": {},
   "outputs": [
    {
     "data": {
      "text/plain": [
       "array([[ 0,  1,  2,  3,  4],\n",
       "       [ 5,  6,  7,  8,  9],\n",
       "       [10, 11, 12, 13, 14],\n",
       "       [15, 16, 17, 18, 19],\n",
       "       [20, 21, 22, 23, 24]])"
      ]
     },
     "execution_count": 30,
     "metadata": {},
     "output_type": "execute_result"
    }
   ],
   "source": [
    "npArr.reshape(5, 5)"
   ]
  },
  {
   "cell_type": "code",
   "execution_count": 31,
   "id": "5c95e61a-6c53-486e-b36e-faa4f98dbb22",
   "metadata": {},
   "outputs": [
    {
     "data": {
      "text/plain": [
       "array([42, 28, 16, 15, 47, 44,  3, 37,  7, 21,  9, 39, 18,  4, 25])"
      ]
     },
     "execution_count": 31,
     "metadata": {},
     "output_type": "execute_result"
    }
   ],
   "source": [
    "randNumpyArr = np.random.randint(1, 50, 15)\n",
    "randNumpyArr"
   ]
  },
  {
   "cell_type": "code",
   "execution_count": 32,
   "id": "316b3559-e775-45c0-9474-30ff4947d4bd",
   "metadata": {},
   "outputs": [
    {
     "data": {
      "text/plain": [
       "47"
      ]
     },
     "execution_count": 32,
     "metadata": {},
     "output_type": "execute_result"
    }
   ],
   "source": [
    "randNumpyArr.max()"
   ]
  },
  {
   "cell_type": "code",
   "execution_count": 33,
   "id": "d3f1bc77-e42b-40e6-915a-ea5e30a404a7",
   "metadata": {},
   "outputs": [
    {
     "data": {
      "text/plain": [
       "3"
      ]
     },
     "execution_count": 33,
     "metadata": {},
     "output_type": "execute_result"
    }
   ],
   "source": [
    "randNumpyArr.min()"
   ]
  },
  {
   "cell_type": "code",
   "execution_count": 34,
   "id": "49bf5415-79bd-4a6d-9cc2-01891e440041",
   "metadata": {},
   "outputs": [
    {
     "data": {
      "text/plain": [
       "355"
      ]
     },
     "execution_count": 34,
     "metadata": {},
     "output_type": "execute_result"
    }
   ],
   "source": [
    "randNumpyArr.sum()"
   ]
  },
  {
   "cell_type": "code",
   "execution_count": 35,
   "id": "e9bab68e-527f-465e-ab8c-b7c3de960880",
   "metadata": {},
   "outputs": [
    {
     "data": {
      "text/plain": [
       "4"
      ]
     },
     "execution_count": 35,
     "metadata": {},
     "output_type": "execute_result"
    }
   ],
   "source": [
    "randNumpyArr.argmax() # index của giá trị lớn nhất"
   ]
  },
  {
   "cell_type": "code",
   "execution_count": 36,
   "id": "4a940aa6-80c1-4d2a-b030-a74d2a0d8e76",
   "metadata": {},
   "outputs": [
    {
     "data": {
      "text/plain": [
       "6"
      ]
     },
     "execution_count": 36,
     "metadata": {},
     "output_type": "execute_result"
    }
   ],
   "source": [
    "randNumpyArr.argmin() # index của giá trị nhỏ nhất"
   ]
  },
  {
   "cell_type": "code",
   "execution_count": 37,
   "id": "ed6f9940-7978-43df-aa28-b46b0abe514e",
   "metadata": {},
   "outputs": [
    {
     "data": {
      "text/plain": [
       "dtype('int32')"
      ]
     },
     "execution_count": 37,
     "metadata": {},
     "output_type": "execute_result"
    }
   ],
   "source": [
    "randNumpyArr.dtype"
   ]
  },
  {
   "cell_type": "code",
   "execution_count": 38,
   "id": "88ef880d-39f4-4a33-985b-e7ffd17b3a49",
   "metadata": {},
   "outputs": [
    {
     "data": {
      "text/plain": [
       "array([ 0,  1,  2,  3,  4,  5,  6,  7,  8,  9, 10, 11, 12, 13, 14, 15, 16,\n",
       "       17, 18, 19, 20, 21, 22, 23, 24])"
      ]
     },
     "execution_count": 38,
     "metadata": {},
     "output_type": "execute_result"
    }
   ],
   "source": [
    "npArr"
   ]
  },
  {
   "cell_type": "code",
   "execution_count": 39,
   "id": "05ead17e-4962-4a88-9610-ce6e305962ab",
   "metadata": {},
   "outputs": [
    {
     "data": {
      "text/plain": [
       "(25,)"
      ]
     },
     "execution_count": 39,
     "metadata": {},
     "output_type": "execute_result"
    }
   ],
   "source": [
    "npArr.shape"
   ]
  },
  {
   "cell_type": "code",
   "execution_count": 40,
   "id": "66645e72-915e-4ffc-8d27-714730d83d8e",
   "metadata": {},
   "outputs": [
    {
     "data": {
      "text/plain": [
       "(5, 5)"
      ]
     },
     "execution_count": 40,
     "metadata": {},
     "output_type": "execute_result"
    }
   ],
   "source": [
    "npArr = npArr.reshape(5, 5)\n",
    "npArr.shape"
   ]
  },
  {
   "cell_type": "code",
   "execution_count": 41,
   "id": "b7a1afce-d671-47c1-b3c9-41250cfe293c",
   "metadata": {},
   "outputs": [
    {
     "name": "stdout",
     "output_type": "stream",
     "text": [
      "D:\\Workspace for Learning\\AI Learning\\Python for Machine Learning & Data Science\\Notebooks\\Numpy\n"
     ]
    }
   ],
   "source": [
    "import os\n",
    "print(os.getcwd())  # In ra đường dẫn thư mục hiện tại"
   ]
  }
 ],
 "metadata": {
  "kernelspec": {
   "display_name": "Python [conda env:base] *",
   "language": "python",
   "name": "conda-base-py"
  },
  "language_info": {
   "codemirror_mode": {
    "name": "ipython",
    "version": 3
   },
   "file_extension": ".py",
   "mimetype": "text/x-python",
   "name": "python",
   "nbconvert_exporter": "python",
   "pygments_lexer": "ipython3",
   "version": "3.12.7"
  }
 },
 "nbformat": 4,
 "nbformat_minor": 5
}
